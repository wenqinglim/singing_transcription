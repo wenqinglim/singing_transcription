{
 "cells": [
  {
   "cell_type": "code",
   "execution_count": 2,
   "id": "96f1a945-b50f-4cea-9e2a-7a77d56ee915",
   "metadata": {},
   "outputs": [],
   "source": [
    "import numpy as np"
   ]
  },
  {
   "cell_type": "code",
   "execution_count": 5,
   "id": "86b109dd-fd65-41d8-aa15-adfe3f3eb0c6",
   "metadata": {},
   "outputs": [
    {
     "name": "stdout",
     "output_type": "stream",
     "text": [
      "/home/jovyan/multi_singer_transcription/MIR-1K/MIR-1K/PitchLabel\n"
     ]
    }
   ],
   "source": [
    "!pwd"
   ]
  },
  {
   "cell_type": "code",
   "execution_count": 7,
   "id": "280f0c86-07e0-42bf-a3cb-76e5b6e6aaad",
   "metadata": {},
   "outputs": [],
   "source": [
    "import os"
   ]
  },
  {
   "cell_type": "code",
   "execution_count": 9,
   "id": "f0c0c49d-ea4c-46cd-82ba-11b8d32d2f4d",
   "metadata": {},
   "outputs": [],
   "source": [
    "files = os.listdir()"
   ]
  },
  {
   "cell_type": "code",
   "execution_count": 12,
   "id": "a712b7c6-931b-4bc0-87e0-3e3158cdb11b",
   "metadata": {},
   "outputs": [
    {
     "name": "stdout",
     "output_type": "stream",
     "text": [
      "analyze_pitch_labels.ipynb\n",
      ".ipynb_checkpoints\n"
     ]
    }
   ],
   "source": [
    "pitches = []\n",
    "for file in files:\n",
    "    try:\n",
    "        pitches.append(np.loadtxt(file, dtype=float))\n",
    "    except:\n",
    "        print(file)"
   ]
  },
  {
   "cell_type": "code",
   "execution_count": 16,
   "id": "c3bfaa28-4f82-42b2-97d7-cf8d9b740e48",
   "metadata": {},
   "outputs": [],
   "source": [
    "pitch_all = np.concatenate(pitches, axis=0 )"
   ]
  },
  {
   "cell_type": "code",
   "execution_count": 17,
   "id": "013b4702-85a4-4f0a-9991-92df8c42df74",
   "metadata": {},
   "outputs": [
    {
     "data": {
      "text/plain": [
       "0.0"
      ]
     },
     "execution_count": 17,
     "metadata": {},
     "output_type": "execute_result"
    }
   ],
   "source": [
    "pitch_all.min()"
   ]
  },
  {
   "cell_type": "code",
   "execution_count": 18,
   "id": "e365aee3-fc76-4b4b-8e85-aab7f722e6d0",
   "metadata": {},
   "outputs": [
    {
     "data": {
      "text/plain": [
       "76.1935"
      ]
     },
     "execution_count": 18,
     "metadata": {},
     "output_type": "execute_result"
    }
   ],
   "source": [
    "pitch_all.max()"
   ]
  },
  {
   "cell_type": "code",
   "execution_count": 19,
   "id": "f2377298-2fb9-4596-be64-b6a57b8a74d6",
   "metadata": {},
   "outputs": [
    {
     "data": {
      "text/plain": [
       "36.4027"
      ]
     },
     "execution_count": 19,
     "metadata": {},
     "output_type": "execute_result"
    }
   ],
   "source": [
    "pitch_all[pitch_all!= 0].min()"
   ]
  },
  {
   "cell_type": "code",
   "execution_count": 31,
   "id": "2b8c6e63-544f-4e2d-bc04-b82cb5a96b54",
   "metadata": {},
   "outputs": [
    {
     "data": {
      "text/plain": [
       "76.2"
      ]
     },
     "execution_count": 31,
     "metadata": {},
     "output_type": "execute_result"
    }
   ],
   "source": [
    "np.round(pitch_all, 1).max()"
   ]
  },
  {
   "cell_type": "code",
   "execution_count": 22,
   "id": "66d2e866-f903-4080-891d-f92a0b782309",
   "metadata": {},
   "outputs": [
    {
     "data": {
      "text/plain": [
       "(array([118456,      0,      0,      0,     12,   8854,  68355, 118353,\n",
       "         78043,   6783]),\n",
       " array([ 0.     ,  7.61935, 15.2387 , 22.85805, 30.4774 , 38.09675,\n",
       "        45.7161 , 53.33545, 60.9548 , 68.57415, 76.1935 ]))"
      ]
     },
     "execution_count": 22,
     "metadata": {},
     "output_type": "execute_result"
    }
   ],
   "source": [
    "np.histogram(pitch_all)"
   ]
  },
  {
   "cell_type": "code",
   "execution_count": 29,
   "id": "a6df0eb7-9482-4ce3-93a2-c67844800e8e",
   "metadata": {},
   "outputs": [
    {
     "data": {
      "text/plain": [
       "39.79"
      ]
     },
     "execution_count": 29,
     "metadata": {},
     "output_type": "execute_result"
    }
   ],
   "source": [
    "\n",
    "76.19-36.4"
   ]
  },
  {
   "cell_type": "code",
   "execution_count": 34,
   "id": "781748ff-0c9e-4d5f-8fbc-77dc77f3eab3",
   "metadata": {},
   "outputs": [
    {
     "data": {
      "text/plain": [
       "796.0"
      ]
     },
     "execution_count": 34,
     "metadata": {},
     "output_type": "execute_result"
    }
   ],
   "source": [
    "(76.2-36.4)/0.05"
   ]
  },
  {
   "cell_type": "code",
   "execution_count": 24,
   "id": "09adad61-d446-41c5-bc1b-c072ed3d5909",
   "metadata": {},
   "outputs": [
    {
     "data": {
      "text/plain": [
       "3.3158333333333334"
      ]
     },
     "execution_count": 24,
     "metadata": {},
     "output_type": "execute_result"
    }
   ],
   "source": [
    "(76.19-36.4)/12"
   ]
  },
  {
   "cell_type": "code",
   "execution_count": 25,
   "id": "b913d0c4-9513-42c0-96d9-578781ad9811",
   "metadata": {},
   "outputs": [
    {
     "data": {
      "text/plain": [
       "6.349166666666666"
      ]
     },
     "execution_count": 25,
     "metadata": {},
     "output_type": "execute_result"
    }
   ],
   "source": [
    "76.19/12"
   ]
  },
  {
   "cell_type": "code",
   "execution_count": 26,
   "id": "6f543886-298a-487b-9770-978c2e83494a",
   "metadata": {},
   "outputs": [],
   "source": [
    "def semitone_to_pitch(semitones, ref_frequency=440):\n",
    "    \"\"\"\n",
    "    Convert semitones to fundamental frequency (Hz).\n",
    "\n",
    "    Parameters:\n",
    "        semitones (float or array-like): Pitch values in semitones.\n",
    "        ref_frequency (float): Reference frequency (Hz). Default is A4 at 440 Hz.\n",
    "\n",
    "    Returns:\n",
    "        float or array-like: Fundamental frequency or array of fundamental frequencies.\n",
    "    \"\"\"\n",
    "    frequency = ref_frequency * 2 ** (semitones / 12)\n",
    "    return frequency\n",
    "\n",
    "    # # Calculate the semitone difference\n",
    "    # semitone_diff = 12 * np.log2(frequency / ref_frequency)\n",
    "    \n",
    "    # # Define the mapping of semitone differences to note names\n",
    "    # note_names = ['C', 'C#', 'D', 'D#', 'E', 'F', 'F#', 'G', 'G#', 'A', 'A#', 'B']\n",
    "    \n",
    "    # # Calculate the octave number\n",
    "    # octave = 4 + semitone_diff / 12\n",
    "    \n",
    "    # # Calculate the index within the note_names list\n",
    "    # note_index = int(round(semitone_diff % 12))"
   ]
  },
  {
   "cell_type": "code",
   "execution_count": 37,
   "id": "dfa7d269-38c4-497d-9b02-d7cb65c3c9f5",
   "metadata": {},
   "outputs": [
    {
     "data": {
      "text/plain": [
       "6944.161153474553"
      ]
     },
     "execution_count": 37,
     "metadata": {},
     "output_type": "execute_result"
    }
   ],
   "source": [
    "semitone_to_pitch(47.7627, ref_frequency=440)"
   ]
  },
  {
   "cell_type": "code",
   "execution_count": 28,
   "id": "52640adf-5d23-4be0-bda9-2e69f96fa4b0",
   "metadata": {},
   "outputs": [
    {
     "data": {
      "text/plain": [
       "3602.276099828647"
      ]
     },
     "execution_count": 28,
     "metadata": {},
     "output_type": "execute_result"
    }
   ],
   "source": [
    "semitone_to_pitch(36.4, ref_frequency=440)"
   ]
  },
  {
   "cell_type": "code",
   "execution_count": 41,
   "id": "6addef81-8a3e-401d-b529-9c94ce0511ec",
   "metadata": {},
   "outputs": [],
   "source": [
    "lengths = []\n",
    "for i in pitches:\n",
    "    lengths.append(i.shape[0])"
   ]
  },
  {
   "cell_type": "code",
   "execution_count": 47,
   "id": "b949e45a-37b8-4303-9357-f331583a78a4",
   "metadata": {},
   "outputs": [
    {
     "data": {
      "text/plain": [
       "379.0"
      ]
     },
     "execution_count": 47,
     "metadata": {},
     "output_type": "execute_result"
    }
   ],
   "source": [
    "np.median(lengths)"
   ]
  },
  {
   "cell_type": "code",
   "execution_count": 46,
   "id": "c17c92f1-7c64-40e2-902b-cbcbadf8dcac",
   "metadata": {},
   "outputs": [
    {
     "data": {
      "text/plain": [
       "(array([  3,   8,  49, 219, 204, 156, 111,  94,  87,  69]),\n",
       " array([152. , 196.8, 241.6, 286.4, 331.2, 376. , 420.8, 465.6, 510.4,\n",
       "        555.2, 600. ]))"
      ]
     },
     "execution_count": 46,
     "metadata": {},
     "output_type": "execute_result"
    }
   ],
   "source": [
    "np.histogram(lengths)"
   ]
  },
  {
   "cell_type": "code",
   "execution_count": null,
   "id": "e2c1e863-7f8d-4a06-a54b-33f0147999e4",
   "metadata": {},
   "outputs": [],
   "source": []
  }
 ],
 "metadata": {
  "kernelspec": {
   "display_name": "multi_singer_transcription",
   "language": "python",
   "name": "env"
  },
  "language_info": {
   "codemirror_mode": {
    "name": "ipython",
    "version": 3
   },
   "file_extension": ".py",
   "mimetype": "text/x-python",
   "name": "python",
   "nbconvert_exporter": "python",
   "pygments_lexer": "ipython3",
   "version": "3.10.13"
  }
 },
 "nbformat": 4,
 "nbformat_minor": 5
}
